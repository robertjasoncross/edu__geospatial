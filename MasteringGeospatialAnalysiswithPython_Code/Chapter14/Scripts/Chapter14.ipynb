{
 "cells": [
  {
   "cell_type": "code",
   "execution_count": 4,
   "metadata": {},
   "outputs": [],
   "source": [
    "import cartoframes\n",
    "APIKEY = \"1353407a098fef50ec1b6324c437d6d52617b890\"\n",
    "cc = cartoframes.CartoContext(base_url='https://lokiintelligent.carto.com/', api_key=APIKEY)"
   ]
  },
  {
   "cell_type": "code",
   "execution_count": 5,
   "metadata": {},
   "outputs": [],
   "source": [
    "from cartoframes import Credentials, CartoContext\n",
    "creds = Credentials(username='lokiintelligent', key='shirl3yt3mpl3')\n",
    "creds.save() "
   ]
  },
  {
   "cell_type": "code",
   "execution_count": 6,
   "metadata": {},
   "outputs": [],
   "source": [
    "df = cc.read('arenas_nba')\n"
   ]
  },
  {
   "cell_type": "code",
   "execution_count": 7,
   "metadata": {
    "scrolled": true
   },
   "outputs": [
    {
     "data": {
      "text/plain": [
       "cartodb_id\n",
       "1            601 Biscayne Boulevard\n",
       "2                  1 Sports Parkway\n",
       "3             301 West South Temple\n",
       "4                  191 Beale Street\n",
       "5                    1 Center Court\n",
       "6                 7000 Coliseum Way\n",
       "7                 1601 Girod Street\n",
       "8                    1 Center Court\n",
       "9            600 West Amelia Street\n",
       "10            1001 North 4th Street\n",
       "11              2500 Victory Avenue\n",
       "12                  100 Legends Way\n",
       "13              1000 Chopper Circle\n",
       "14               1 Philips Drive NW\n",
       "15         1902 West Madison Street\n",
       "16          3601 South Broad Street\n",
       "17                     50 Route 120\n",
       "18             4 Pennsylvania Plaza\n",
       "19                  601 F Street NW\n",
       "20       1111 South Figueroa Street\n",
       "21           600 First Avenue North\n",
       "22               201 East Jefferson\n",
       "23            333 East Trade Street\n",
       "24    125 South Pennsylvania Street\n",
       "25                 1510 Polk Street\n",
       "26             2 Championship Drive\n",
       "27            1 AT&T Center Parkway\n",
       "28             100 West Reno Avenue\n",
       "29                    40 Bay Street\n",
       "Name: address1, dtype: object"
      ]
     },
     "execution_count": 7,
     "metadata": {},
     "output_type": "execute_result"
    }
   ],
   "source": [
    "df.address1"
   ]
  },
  {
   "cell_type": "code",
   "execution_count": 8,
   "metadata": {},
   "outputs": [
    {
     "data": {
      "text/html": [
       "<div>\n",
       "<style scoped>\n",
       "    .dataframe tbody tr th:only-of-type {\n",
       "        vertical-align: middle;\n",
       "    }\n",
       "\n",
       "    .dataframe tbody tr th {\n",
       "        vertical-align: top;\n",
       "    }\n",
       "\n",
       "    .dataframe thead th {\n",
       "        text-align: right;\n",
       "    }\n",
       "</style>\n",
       "<table border=\"1\" class=\"dataframe\">\n",
       "  <thead>\n",
       "    <tr style=\"text-align: right;\">\n",
       "      <th></th>\n",
       "      <th>address1</th>\n",
       "      <th>address2</th>\n",
       "      <th>capacity</th>\n",
       "      <th>city</th>\n",
       "      <th>comments_1</th>\n",
       "      <th>comp_affil</th>\n",
       "      <th>conference</th>\n",
       "      <th>coorsource</th>\n",
       "      <th>county</th>\n",
       "      <th>date_creat</th>\n",
       "      <th>...</th>\n",
       "      <th>po_zip</th>\n",
       "      <th>primary_ty</th>\n",
       "      <th>reliabilit</th>\n",
       "      <th>sector</th>\n",
       "      <th>state</th>\n",
       "      <th>subsector</th>\n",
       "      <th>team</th>\n",
       "      <th>the_geom</th>\n",
       "      <th>zip</th>\n",
       "      <th>zip_4</th>\n",
       "    </tr>\n",
       "    <tr>\n",
       "      <th>cartodb_id</th>\n",
       "      <th></th>\n",
       "      <th></th>\n",
       "      <th></th>\n",
       "      <th></th>\n",
       "      <th></th>\n",
       "      <th></th>\n",
       "      <th></th>\n",
       "      <th></th>\n",
       "      <th></th>\n",
       "      <th></th>\n",
       "      <th></th>\n",
       "      <th></th>\n",
       "      <th></th>\n",
       "      <th></th>\n",
       "      <th></th>\n",
       "      <th></th>\n",
       "      <th></th>\n",
       "      <th></th>\n",
       "      <th></th>\n",
       "      <th></th>\n",
       "      <th></th>\n",
       "    </tr>\n",
       "  </thead>\n",
       "  <tbody>\n",
       "    <tr>\n",
       "      <th>29</th>\n",
       "      <td>40 Bay Street</td>\n",
       "      <td>None</td>\n",
       "      <td>19800</td>\n",
       "      <td>Toronto</td>\n",
       "      <td>Shares arena with Maple Leafs (NHL) and Rock (...</td>\n",
       "      <td>None</td>\n",
       "      <td>Eastern</td>\n",
       "      <td>NGA</td>\n",
       "      <td>None</td>\n",
       "      <td>20100215</td>\n",
       "      <td>...</td>\n",
       "      <td>None</td>\n",
       "      <td>NBA</td>\n",
       "      <td>High</td>\n",
       "      <td>High Value/Symbolic</td>\n",
       "      <td>ON</td>\n",
       "      <td>Sports Arena</td>\n",
       "      <td>Toronto Raptors</td>\n",
       "      <td>0101000020E610000000DCF0EB41D853C0081632705BD2...</td>\n",
       "      <td>M5J</td>\n",
       "      <td>2X2</td>\n",
       "    </tr>\n",
       "  </tbody>\n",
       "</table>\n",
       "<p>1 rows × 30 columns</p>\n",
       "</div>"
      ],
      "text/plain": [
       "                 address1 address2  capacity     city  \\\n",
       "cartodb_id                                              \n",
       "29          40 Bay Street     None     19800  Toronto   \n",
       "\n",
       "                                                   comments_1 comp_affil  \\\n",
       "cartodb_id                                                                 \n",
       "29          Shares arena with Maple Leafs (NHL) and Rock (...       None   \n",
       "\n",
       "           conference coorsource county date_creat  ...  po_zip primary_ty  \\\n",
       "cartodb_id                                          ...                      \n",
       "29            Eastern        NGA   None   20100215  ...    None        NBA   \n",
       "\n",
       "            reliabilit               sector  state     subsector  \\\n",
       "cartodb_id                                                         \n",
       "29                High  High Value/Symbolic     ON  Sports Arena   \n",
       "\n",
       "                       team  \\\n",
       "cartodb_id                    \n",
       "29          Toronto Raptors   \n",
       "\n",
       "                                                     the_geom  zip zip_4  \n",
       "cartodb_id                                                                \n",
       "29          0101000020E610000000DCF0EB41D853C0081632705BD2...  M5J   2X2  \n",
       "\n",
       "[1 rows x 30 columns]"
      ]
     },
     "execution_count": 8,
     "metadata": {},
     "output_type": "execute_result"
    }
   ],
   "source": [
    "df[df.team=='Toronto Raptors']"
   ]
  },
  {
   "cell_type": "code",
   "execution_count": null,
   "metadata": {},
   "outputs": [],
   "source": [
    "import geopandas as gdp\n",
    "import cartoframes\n",
    "import pandas as pd\n",
    "APIKEY = \"1353407a098fef50ec1b6324c437d6d52617b890\"\n",
    "\n",
    "cc = cartoframes.CartoContext(base_url='https://lokiintelligent.carto.com/',\n",
    "                              api_key=APIKEY)\n",
    "from shapely.geometry import Point\n",
    "address_df = pd.read_csv(r'C:\\Data\\us\\ak\\city_of_juneau.csv')\n",
    "geometry = [Point(xy) for xy in zip(address_df.LON, address_df.LAT)]\n",
    "address_df = address_df.drop(['LON', 'LAT'], axis=1)\n",
    "crs = {'init': 'epsg:4326'}\n",
    "geo_df = gdp.GeoDataFrame(address_df, crs=crs, geometry=geometry)\n",
    "cc.write(geo_df, 'juneau_addresses')"
   ]
  }
 ],
 "metadata": {
  "kernelspec": {
   "display_name": "Python 3",
   "language": "python",
   "name": "python3"
  },
  "language_info": {
   "codemirror_mode": {
    "name": "ipython",
    "version": 3
   },
   "file_extension": ".py",
   "mimetype": "text/x-python",
   "name": "python",
   "nbconvert_exporter": "python",
   "pygments_lexer": "ipython3",
   "version": "3.6.3"
  }
 },
 "nbformat": 4,
 "nbformat_minor": 2
}
