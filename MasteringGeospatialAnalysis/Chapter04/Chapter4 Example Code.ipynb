{
 "cells": [
  {
   "cell_type": "markdown",
   "metadata": {},
   "source": [
    "<h1>Reading and writing vector data with GeoPandas</h1>"
   ]
  },
  {
   "cell_type": "code",
   "execution_count": null,
   "metadata": {},
   "outputs": [],
   "source": [
    "import geopandas as gpd\n",
    "df = gpd.read_file(r'C:\\data\\gdal\\NE\\10m_cultural\\ne_10m_admin_0_boundary_lines_land.shp')\n",
    "df.head()"
   ]
  },
  {
   "cell_type": "code",
   "execution_count": null,
   "metadata": {},
   "outputs": [],
   "source": [
    "%matplotlib inline\n",
    "df.plot(color='black')"
   ]
  },
  {
   "cell_type": "code",
   "execution_count": null,
   "metadata": {},
   "outputs": [],
   "source": [
    "df.geom_type.head()"
   ]
  },
  {
   "cell_type": "code",
   "execution_count": null,
   "metadata": {},
   "outputs": [],
   "source": [
    "df.crs"
   ]
  },
  {
   "cell_type": "code",
   "execution_count": null,
   "metadata": {},
   "outputs": [],
   "source": [
    "merc = df.to_crs({'init': 'epsg:3395'})\n",
    "merc.plot(color='black')"
   ]
  },
  {
   "cell_type": "code",
   "execution_count": null,
   "metadata": {},
   "outputs": [],
   "source": [
    "df.to_json()"
   ]
  },
  {
   "cell_type": "code",
   "execution_count": null,
   "metadata": {},
   "outputs": [],
   "source": [
    "df.to_file(driver='GeoJSON',filename=r'C:\\data\\world.geojson')"
   ]
  },
  {
   "cell_type": "code",
   "execution_count": null,
   "metadata": {},
   "outputs": [],
   "source": [
    "import fiona; fiona.supported_drivers"
   ]
  },
  {
   "cell_type": "markdown",
   "metadata": {},
   "source": [
    "<h1>Reading and writing vector data with OGR</h1>"
   ]
  },
  {
   "cell_type": "code",
   "execution_count": null,
   "metadata": {},
   "outputs": [],
   "source": [
    "!ogrinfo –-formats"
   ]
  },
  {
   "cell_type": "code",
   "execution_count": null,
   "metadata": {},
   "outputs": [],
   "source": [
    "!ogrinfo -so \"pts\" mtbs_fod_pts_20170501"
   ]
  },
  {
   "cell_type": "code",
   "execution_count": null,
   "metadata": {},
   "outputs": [],
   "source": [
    "!ogrinfo \"pts\" mtbs_fod_pts_20170501"
   ]
  },
  {
   "cell_type": "code",
   "execution_count": null,
   "metadata": {},
   "outputs": [],
   "source": [
    "!ogr2ogr -f \"GeoJSON\" \"C:\\data\\output.json\" \"C:\\data\\mtbs_fod_pts_data\\mtbs_fod_pts_20170501.shp\""
   ]
  },
  {
   "cell_type": "code",
   "execution_count": null,
   "metadata": {},
   "outputs": [],
   "source": [
    "!ogrinfo \"C:\\Users\\UserName\\Downloads\\KML_Samples.kml\" -summary"
   ]
  },
  {
   "cell_type": "code",
   "execution_count": null,
   "metadata": {},
   "outputs": [],
   "source": [
    "from osgeo import ogr\n",
    "source = ogr.Open(r\"C:\\data\\mtbs_fod_pts_data\\mtbs_fod_pts_20170501.shp\")\n",
    "layer = source.GetLayer()\n",
    "schema = []\n",
    "ldefn = layer.GetLayerDefn()\n",
    "for n in range(ldefn.GetFieldCount()):\n",
    "    fdefn = ldefn.GetFieldDefn(n)\n",
    "    schema.append(fdefn.name)\n",
    "print(schema)"
   ]
  },
  {
   "cell_type": "code",
   "execution_count": null,
   "metadata": {},
   "outputs": [],
   "source": [
    "from osgeo import ogr\n",
    "import os\n",
    "shapefile = r\"C:\\data\\mtbs_fod_pts_data\\mtbs_fod_pts_20170501.shp\"\n",
    "driver = ogr.GetDriverByName(\"ESRI Shapefile\")\n",
    "dataSource = driver.Open(shapefile, 0)\n",
    "layer = dataSource.GetLayer()\n",
    "for feature in layer:\n",
    "    print(feature.GetField(\"STATE\"))"
   ]
  },
  {
   "cell_type": "code",
   "execution_count": null,
   "metadata": {},
   "outputs": [],
   "source": [
    "import os\n",
    "from osgeo import ogr\n",
    "daShapefile = r\"C:\\data\\mtbs_fod_pts_data\\mtbs_fod_pts_20170501.shp\"\n",
    "driver = ogr.GetDriverByName(\"ESRI Shapefile\")\n",
    "dataSource = driver.Open(daShapefile, 0)\n",
    "layer = dataSource.GetLayer()\n",
    "featureCount = layer.GetFeatureCount()\n",
    "print(\"Number of features in %s: %d\" %(os.path.basename(daShapefile), featureCount))"
   ]
  },
  {
   "cell_type": "code",
   "execution_count": null,
   "metadata": {},
   "outputs": [],
   "source": [
    "from osgeo import ogr, osr\n",
    "driver = ogr.GetDriverByName('ESRI Shapefile')\n",
    "dataset = driver.Open(r\"C:\\data\\mtbs_fod_pts_data\\mtbs_fod_pts_20170501.shp\")\n",
    "# Option 1: from Layer\n",
    "layer = dataset.GetLayer()\n",
    "spatialRef = layer.GetSpatialRef()\n",
    " print(spatialRef)\n",
    "# Option 2: from Geometry\n",
    "feature = layer.GetNextFeature()\n",
    "geom = feature.GetGeometryRef()\n",
    "spatialRef2 = geom.GetSpatialReference()\n",
    "print(spatialRef2)"
   ]
  },
  {
   "cell_type": "code",
   "execution_count": null,
   "metadata": {},
   "outputs": [],
   "source": [
    "from osgeo import ogr\n",
    "import os\n",
    "shapefile = r\"C:\\data\\mtbs_fod_pts_data\\mtbs_fod_pts_20170501.shp\"\n",
    "driver = ogr.GetDriverByName(\"ESRI Shapefile\")\n",
    "dataSource = driver.Open(shapefile, 0)\n",
    "layer = dataSource.GetLayer()\n",
    "for feature in layer:\n",
    "    geom = feature.GetGeometryRef()        \n",
    "print(geom.Centroid().ExportToWkt())"
   ]
  },
  {
   "cell_type": "markdown",
   "metadata": {},
   "source": [
    "<h1>Reading and writing raster data with Rasterio</h1>"
   ]
  },
  {
   "cell_type": "code",
   "execution_count": null,
   "metadata": {},
   "outputs": [],
   "source": [
    "import rasterio    \n",
    "dataset = rasterio.open(r\"C:\\data\\gdal\\NE\\50m_raster\\NE1_50M_SR_W\\NE1_50M_SR_W.tif\")"
   ]
  },
  {
   "cell_type": "code",
   "execution_count": null,
   "metadata": {},
   "outputs": [],
   "source": [
    "dataset.count"
   ]
  },
  {
   "cell_type": "code",
   "execution_count": null,
   "metadata": {},
   "outputs": [],
   "source": [
    "dataset.width"
   ]
  },
  {
   "cell_type": "code",
   "execution_count": null,
   "metadata": {},
   "outputs": [],
   "source": [
    "dataset.height"
   ]
  },
  {
   "cell_type": "code",
   "execution_count": null,
   "metadata": {},
   "outputs": [],
   "source": [
    "dataset.bounds"
   ]
  },
  {
   "cell_type": "code",
   "execution_count": null,
   "metadata": {},
   "outputs": [],
   "source": [
    "dataset.crs"
   ]
  },
  {
   "cell_type": "code",
   "execution_count": null,
   "metadata": {},
   "outputs": [],
   "source": [
    "band1 = dataset.read(1)\n",
    "band1"
   ]
  },
  {
   "cell_type": "markdown",
   "metadata": {},
   "source": [
    "%matplotlib inline\n",
    "from matplotlib import pyplot\n",
    "pyplot.imshow(dataset.read(1))\n",
    "pyplot.show()"
   ]
  },
  {
   "cell_type": "markdown",
   "metadata": {},
   "source": [
    "<h1>Reading and writing raster data using GDAL</h1>"
   ]
  },
  {
   "cell_type": "code",
   "execution_count": null,
   "metadata": {},
   "outputs": [],
   "source": [
    "!gdalinfo --formats"
   ]
  },
  {
   "cell_type": "code",
   "execution_count": null,
   "metadata": {},
   "outputs": [],
   "source": [
    "!gdalinfo \"C:\\data\\gdal\\NE\\50m_raster\\NE1_50M_SR_W\\NE1_50M_SR_W.tif\""
   ]
  },
  {
   "cell_type": "code",
   "execution_count": null,
   "metadata": {},
   "outputs": [],
   "source": [
    "!gdal_translate -of JPEG "
   ]
  },
  {
   "cell_type": "code",
   "execution_count": null,
   "metadata": {},
   "outputs": [],
   "source": [
    "!gdalinfo \"C:\\Users\\UserName\\Downloads\\gdal_sample_v1.2_no_extensions.gpkg\""
   ]
  },
  {
   "cell_type": "code",
   "execution_count": null,
   "metadata": {},
   "outputs": [],
   "source": [
    "!gdalinfo http://server.arcgisonline.com/ArcGIS/rest/services/World_Imagery/MapServer?f=json&pretty=true "
   ]
  }
 ],
 "metadata": {
  "kernelspec": {
   "display_name": "Python 3",
   "language": "python",
   "name": "python3"
  },
  "language_info": {
   "codemirror_mode": {
    "name": "ipython",
    "version": 3
   },
   "file_extension": ".py",
   "mimetype": "text/x-python",
   "name": "python",
   "nbconvert_exporter": "python",
   "pygments_lexer": "ipython3",
   "version": "3.6.3"
  }
 },
 "nbformat": 4,
 "nbformat_minor": 2
}
