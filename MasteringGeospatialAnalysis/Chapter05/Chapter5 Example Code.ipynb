{
 "cells": [
  {
   "cell_type": "markdown",
   "metadata": {},
   "source": [
    "<h1>OGR Simple Features Library</h1>"
   ]
  },
  {
   "cell_type": "markdown",
   "metadata": {},
   "source": [
    "<h2>ogrmerge.py example</h2>"
   ]
  },
  {
   "cell_type": "code",
   "execution_count": null,
   "metadata": {},
   "outputs": [],
   "source": [
    "%run \"C:\\Users\\*USERNAME*\\Anaconda3\\pkgs\\gdal-2.2.2-py36_1\\Scripts\\ogrmerge.py\" -f GPKG -o merged.gpkg \"C:\\data\\gdal\\NE\\10m_cultural\\*.shp\""
   ]
  },
  {
   "cell_type": "markdown",
   "metadata": {},
   "source": [
    "<h2>OGR code examples</h2>"
   ]
  },
  {
   "cell_type": "code",
   "execution_count": null,
   "metadata": {},
   "outputs": [],
   "source": [
    "# Example 1 – create polygon geometry with OGR\n",
    "from osgeo import ogr\n",
    "r = ogr.Geometry(ogr.wkbLinearRing)\n",
    "r.AddPoint(1,1)\n",
    "r.AddPoint(5,1)\n",
    "r.AddPoint(5,5)\n",
    "r.AddPoint(1,5)\n",
    "r.AddPoint(1,1)\n",
    "poly = ogr.Geometry(ogr.wkbPolygon)\n",
    "poly.AddGeometry(r)\n",
    "print(poly.ExportToWkt())"
   ]
  },
  {
   "cell_type": "code",
   "execution_count": null,
   "metadata": {},
   "outputs": [],
   "source": [
    "# Example 2 – create polygon geometry from GeoJSON\n",
    "from osgeo import ogr\n",
    "geojson = \"\"\"{\"type\":\"Polygon\",\"coordinates\":[[[1,1],[5,1],[5,5],[1,5], [1,1]]]}\"\"\"\n",
    "polygon = ogr.CreateGeometryFromJson(geojson)\n",
    "print(polygon) "
   ]
  },
  {
   "cell_type": "code",
   "execution_count": null,
   "metadata": {},
   "outputs": [],
   "source": [
    "# Example 3 - basic geometric operations\n",
    "# 1 create area\n",
    "print(\"The area of our polygon is %d\" % polygon.Area())"
   ]
  },
  {
   "cell_type": "code",
   "execution_count": null,
   "metadata": {},
   "outputs": [],
   "source": [
    "# 2 calculate centroid of polygon\n",
    "cen = polygon.Centroid()\n",
    "print(cen)"
   ]
  },
  {
   "cell_type": "code",
   "execution_count": null,
   "metadata": {},
   "outputs": [],
   "source": [
    "# 3 Get the boundary\n",
    "b = polygon.GetBoundary()\n",
    "print(b)"
   ]
  },
  {
   "cell_type": "code",
   "execution_count": null,
   "metadata": {},
   "outputs": [],
   "source": [
    "# 4 convex hull does the same in this case as boundary, as our polyogn is a square:\n",
    "ch = polygon.ConvexHull() \n",
    "print(ch)"
   ]
  },
  {
   "cell_type": "code",
   "execution_count": null,
   "metadata": {},
   "outputs": [],
   "source": [
    "#5 buffer. A buffer value of 0 (zero) returns the same values as boundary and convex hull in this example:\n",
    "buffer = polygon.Buffer(0) \n",
    "print(buffer)"
   ]
  },
  {
   "cell_type": "code",
   "execution_count": null,
   "metadata": {},
   "outputs": [],
   "source": [
    "# 6 check if a point is inside our polygon\n",
    "point = ogr.Geometry(ogr.wkbPoint)\n",
    "point.AddPoint(10, 10)\n",
    "polygon.Contains(point)"
   ]
  },
  {
   "cell_type": "code",
   "execution_count": null,
   "metadata": {},
   "outputs": [],
   "source": [
    "#Example 4 – writing polygon data to a newly created shapefile\n",
    "\n",
    "import osgeo.ogr, osgeo.osr\n",
    "# 1 set the spatial reference\n",
    "spatialReference = osgeo.osr.SpatialReference()\n",
    "spatialReference.ImportFromProj4('+proj=longlat +ellps=WGS84 +datum=WGS84 +no_defs')\n",
    "\n",
    "# 2 create a new shapefile\n",
    "driver = osgeo.ogr.GetDriverByName('ESRI Shapefile')\n",
    "shapeData = driver.CreateDataSource('my_polygon.shp')\n",
    "\n",
    "# 3 create the layer\n",
    "layer = shapeData.CreateLayer('polygon_layer', spatialReference, osgeo.ogr.wkbPolygon)\n",
    "layerDefinition = layer.GetLayerDefn()\n",
    "\n",
    "# 4 geometry is put inside feature\n",
    "featureIndex = 0\n",
    "feature = osgeo.ogr.Feature(layerDefinition)\n",
    "feature.SetGeometry(polygon)\n",
    "feature.SetFID(featureIndex)\n",
    "\n",
    "# 5 feature is put into layer\n",
    "layer.CreateFeature(feature)"
   ]
  },
  {
   "cell_type": "code",
   "execution_count": null,
   "metadata": {},
   "outputs": [],
   "source": [
    "!ogrinfo my_polygon.shp"
   ]
  },
  {
   "cell_type": "code",
   "execution_count": null,
   "metadata": {},
   "outputs": [],
   "source": [
    "#Example 5 – using a spatial filter to select features\n",
    "\n",
    "# import the modules\n",
    "from osgeo import ogr\n",
    "import os\n",
    "\n",
    "# reference the shapefile and specify driver type\n",
    "shapefile = r\"C:\\data\\gdal\\NE\\10m_cultural\\ne_10m_populated_places.shp\"\n",
    "driver = ogr.GetDriverByName(\"ESRI Shapefile\")\n",
    "\n",
    "# open the data source with driver, zero means open in read-only mode\n",
    "dataSource = driver.Open(shapefile, 0)\n",
    "\n",
    "# use the GetLayer() function for referencing the layer that holds the data\n",
    "layer = dataSource.GetLayer()\n",
    "\n",
    "# pass in the coordinates for the data frame to the SetSpatialFilterRect() function.\n",
    "# this filter creates a rectangular extent and selects the features inside the extent\n",
    "layer.SetSpatialFilterRect(-102, 26, -94, 36)\n",
    "for feature in layer:\n",
    "    # select only the cities inside of the USA\n",
    "    # we can do this through a SQL query:\n",
    "    # we skip the cities that are not in the USA,\n",
    "    # and print the names of the cities that are\n",
    "    if feature.GetField(\"ADM0NAME\") != \"United States of America\":\n",
    "        continue\n",
    "    else:\n",
    "        print(feature.GetField(\"NAME\"))"
   ]
  },
  {
   "cell_type": "markdown",
   "metadata": {},
   "source": [
    "<h1>Shapely and Fiona</h1>"
   ]
  },
  {
   "cell_type": "code",
   "execution_count": null,
   "metadata": {},
   "outputs": [],
   "source": [
    "# Example 1 – create geometries with Shapely\n",
    "\n",
    "from shapely.geometry import Polygon\n",
    "p1 = Polygon(((1, 2), (5, 3), (5, 7), (1, 9), (1, 2)))\n",
    "p2 = Polygon(((6,6), (7,6), (10,4), (11,8), (6,6)))\n",
    "p1 "
   ]
  },
  {
   "cell_type": "code",
   "execution_count": null,
   "metadata": {},
   "outputs": [],
   "source": [
    "# A new command line is required for printing the second polygon:\n",
    "p2"
   ]
  },
  {
   "cell_type": "code",
   "execution_count": null,
   "metadata": {},
   "outputs": [],
   "source": [
    "# Point takes tuples as well as positional coordinate values\n",
    "from shapely.geometry import Point\n",
    "point = Point(2.0, 2.0)\n",
    "q = Point((2.0, 2.0))\n",
    "q"
   ]
  },
  {
   "cell_type": "code",
   "execution_count": null,
   "metadata": {},
   "outputs": [],
   "source": [
    "# line geometry\n",
    "from shapely.geometry import LineString\n",
    "line = LineString([(0, 0), (10,10)])\n",
    "line"
   ]
  },
  {
   "cell_type": "code",
   "execution_count": null,
   "metadata": {},
   "outputs": [],
   "source": [
    "# linear rings\n",
    "from shapely.geometry.polygon import LinearRing\n",
    "ring = LinearRing([(0,0), (3,3), (3,0)])\n",
    "ring"
   ]
  },
  {
   "cell_type": "code",
   "execution_count": null,
   "metadata": {},
   "outputs": [],
   "source": [
    "# collection of points\n",
    "from shapely.geometry import MultiPoint\n",
    "points = MultiPoint([(0.0, 0.0), (3.0, 3.0)])\n",
    "points"
   ]
  },
  {
   "cell_type": "code",
   "execution_count": null,
   "metadata": {},
   "outputs": [],
   "source": [
    "# collection of lines\n",
    "from shapely.geometry import MultiLineString\n",
    "coords = [((0, 0), (1, 1)), ((-1, 0), (1, 0))]\n",
    "coords"
   ]
  },
  {
   "cell_type": "code",
   "execution_count": null,
   "metadata": {},
   "outputs": [],
   "source": [
    "# collection of polygons\n",
    "from shapely.geometry import MultiPolygon\n",
    "polygons = MultiPolygon([p1, p2,])\n",
    "polygons"
   ]
  },
  {
   "cell_type": "code",
   "execution_count": null,
   "metadata": {},
   "outputs": [],
   "source": [
    "#Example 2 – apply geometrical methods with Shapely\n",
    "\n",
    "print(p1.area)\n",
    "print(p1.bounds)\n",
    "print(p1.length)\n",
    "print(p1.geom_type)"
   ]
  },
  {
   "cell_type": "code",
   "execution_count": null,
   "metadata": {},
   "outputs": [],
   "source": [
    "#Example 3 – reading JSON geometries with Shapely\n",
    "\n",
    "import json\n",
    "from shapely.geometry import mapping, shape\n",
    "p = shape(json.loads('{\"type\": \"Polygon\", \"coordinates\": [[[1,1], [1,3 ], [3,3]]]}'))\n",
    "print(json.dumps(mapping(p)))\n",
    "p.area"
   ]
  },
  {
   "cell_type": "code",
   "execution_count": null,
   "metadata": {},
   "outputs": [],
   "source": [
    "# Example 4 – reading data with Fiona\n",
    "\n",
    "import fiona\n",
    "c = fiona.open(r\"C:\\data\\gdal\\NE\\110m_cultural\\ne_110m_admin_1_states_provinces.shp\")\n",
    "rec = next(iter(c))\n",
    "rec.keys()"
   ]
  },
  {
   "cell_type": "code",
   "execution_count": null,
   "metadata": {},
   "outputs": [],
   "source": [
    "import pprint\n",
    "pprint.pprint(rec['type'])\n",
    "pprint.pprint(rec['id'])\n",
    "pprint.pprint(rec['properties'])\n",
    "pprint.pprint(rec['geometry'])"
   ]
  },
  {
   "cell_type": "code",
   "execution_count": null,
   "metadata": {},
   "outputs": [],
   "source": [
    "print(len(c))        # prints total amount of features     \n",
    "print(c.driver)      # prints driver name\n",
    "print(c.crs)         # prints coordinate reference system of data file"
   ]
  },
  {
   "cell_type": "code",
   "execution_count": null,
   "metadata": {},
   "outputs": [],
   "source": [
    "#Example 5 – accessing vector geometry in shapefiles using Shapely and Fiona\n",
    "\n",
    "import pprint, fiona\n",
    "with fiona.open\\(r\"C:\\data\\gdal\\NE\\110m_cultural\\ne_110m_admin_1_states_provinces.shp\") as src:\n",
    "    pprint.pprint(src[0])"
   ]
  },
  {
   "cell_type": "code",
   "execution_count": null,
   "metadata": {},
   "outputs": [],
   "source": [
    "from shapely.geometry import shape\n",
    "minnesota = {'type': 'Polygon', 'coordinates': [[(-89.61369767938538, 47.81925202085796), (-89.72800594761503, 47.641976019880644), (-89.84283098016755, 47.464725857119504), (-89.95765601272012, 47.286907253603175), (-90.13175391311144, 47.29274669045216), (-90.30585181350276, 47.29801768654593), (-90.47994971389409, 47.30385712339489), (-90.6540476142854, 47.309128119488676), (-90.85778194859611, 47.21282908791278), (-91.06097368036777, 47.117046820659795), (-91.26470801467849, 47.02126455340681), (-91.46844234898919, 46.9249655218309), (-91.59225908076053, 46.876260484395914), (-91.71661841507091, 46.82760712339301), (-91.8409777493813, 46.778385321635), (-91.96479448115262, 46.72970612241605), (-92.01189754918667, 46.71172272397848), (-92.27487891312, 46.65614472104858), (-92.26482784703924, 46.09522288673644), (-92.2965830146826, 46.09628225359842), (-92.54369971390233, 45.98569468849381), (-92.75696834997089, 45.88991242124082), (-92.89982784704182, 45.705763454768714), (-92.68922054723626, 45.51843638771068), (-92.76541744665064, 45.26708222104298), (-92.76647681351261, 44.9961426865367), (-92.79665584997105, 44.77602692318949), (-92.50507158076417, 44.58391978614445), (-92.38549231644078, 44.57492808692567), (-92.06215287959051, 44.43258535417769), (-91.949989183301, 44.364837551443046), (-91.87960588251947, 44.25742808692439), (-91.62770911331273, 44.085448920257036), (-91.28959021682704, 43.93729258887629), (-91.25729244664458, 43.854739488289965), (-91.2546569485977, 43.61397899024206), (-91.22819861526426, 43.5012468531974), (-92.54000484899348, 43.51977285417405), (-94.00102678096546, 43.51341665300214), (-95.35993608272871, 43.50018748633542), (-96.4526600817565, 43.50178945573647), (-96.43943091508982, 44.43576345476367), (-96.56061214881424, 45.39301768653837), (-96.73576941606754, 45.47081655535372), (-96.83470394569034, 45.62532908790642), (-96.78072791216147, 45.76079885515958), (-96.55689144568922, 45.87244578712617), (-96.53945064979075, 46.017966620460186), (-96.53890804725165, 46.199480088885366), (-96.60135901567638, 46.3513571233911), (-96.68548824744755, 46.51328522397769), (-96.73365068234358, 46.71647695574927), (-96.7458204821483, 46.9445250514533), (-96.77969438351563, 46.999043687521294), (-96.82041541216165, 47.29220408791309), (-96.82465287960957, 47.42661448830425), (-96.84423824744819, 47.54619375262766), (-96.89397681352912, 47.74886872007637), (-97.01515804725355, 47.954205023788134), (-97.13104244666809, 48.13729462339825), (-97.14850908078273, 48.31878225360731), (-97.16122148312654, 48.51458425556122), (-97.12734758175921, 48.64212169045756), (-97.1204746162644, 48.75852285419501), (-97.21413814979343, 48.90244171812793), (-97.22894344764504, 49.00088532164389), (-95.15883724646483, 48.9998259547819), (-95.15620174841791, 49.38401439065592), (-94.81754024939323, 49.38928538674975), (-94.64026424841592, 48.84001658791925), (-94.32912044958647, 48.670672919298795), (-93.63061011429733, 48.60928131773602), (-92.60984554723586, 48.45001455341253), (-91.63987891311746, 48.13993012144516), (-90.83026424840062, 48.27010305438836), (-89.59995174839577, 48.01027395282483), (-89.59940914585667, 48.01027395282483), (-89.4900319346622, 48.01340602289096), (-89.52269548211933, 47.96053538674391), (-89.61369767938538, 47.81925202085796)]]}"
   ]
  },
  {
   "cell_type": "code",
   "execution_count": null,
   "metadata": {},
   "outputs": [],
   "source": [
    "geom = shape(minnesota)\n",
    "geom"
   ]
  },
  {
   "cell_type": "markdown",
   "metadata": {},
   "source": [
    "<h1>GeoPandas</h1>"
   ]
  },
  {
   "cell_type": "code",
   "execution_count": null,
   "metadata": {},
   "outputs": [],
   "source": [
    "# Example 1 – selecting and plotting geometry data with GeoPandas and Matplotlib\n",
    "\n",
    "# import module\n",
    "import geopandas as gpd\n",
    "# magic command to use matplotlib plots inside Jupyter Notebook app\n",
    "%matplotlib inline\n",
    "# create a GeoDataFrame from shapefile and display it\n",
    "df = gpd.read_file(r\"C:\\data\\gdal\\NE\\110m_cultural\\ne_110m_admin_1_states_provinces.shp\")\n",
    "df"
   ]
  },
  {
   "cell_type": "code",
   "execution_count": null,
   "metadata": {},
   "outputs": [],
   "source": [
    "# return object type\n",
    "type(df)"
   ]
  },
  {
   "cell_type": "code",
   "execution_count": null,
   "metadata": {},
   "outputs": [],
   "source": [
    "# shape prints rows and columns\n",
    "df.shape"
   ]
  },
  {
   "cell_type": "code",
   "execution_count": null,
   "metadata": {},
   "outputs": [],
   "source": [
    "# columns returns column names as a list item\n",
    "df.columns"
   ]
  },
  {
   "cell_type": "code",
   "execution_count": null,
   "metadata": {},
   "outputs": [],
   "source": [
    "# subset data using pandas' dataframe .loc method\n",
    "df.loc[0]"
   ]
  },
  {
   "cell_type": "code",
   "execution_count": null,
   "metadata": {},
   "outputs": [],
   "source": [
    "# print a list of all state names\n",
    "df['name']"
   ]
  },
  {
   "cell_type": "code",
   "execution_count": null,
   "metadata": {},
   "outputs": [],
   "source": [
    "# reference a separate row and print all columns and attribute data\n",
    "california = df.loc[df['name'] == \"California\"]\n",
    "california"
   ]
  },
  {
   "cell_type": "code",
   "execution_count": null,
   "metadata": {},
   "outputs": [],
   "source": [
    "# plot state geometry\n",
    "california.plot(figsize=(7,7))"
   ]
  },
  {
   "cell_type": "code",
   "execution_count": null,
   "metadata": {},
   "outputs": [],
   "source": [
    "# subset and plot multiple items using .iloc method\n",
    "multipl = df.iloc[[5,7,9,11]]\n",
    "multipl.plot(cmap=\"Set1\", figsize=(7,7))"
   ]
  },
  {
   "cell_type": "code",
   "execution_count": null,
   "metadata": {},
   "outputs": [],
   "source": [
    "# subset items using .cx method and a bounding box and plot them\n",
    "exp = df.cx[-124:-118,30:50]\n",
    "exp.plot(cmap=\"Set1\", figsize=(7,7))"
   ]
  },
  {
   "cell_type": "code",
   "execution_count": null,
   "metadata": {},
   "outputs": [],
   "source": [
    "# Example 2 – mapping wildfire data with GeoPandas\n",
    "# import module\n",
    "import geopandas"
   ]
  },
  {
   "cell_type": "code",
   "execution_count": null,
   "metadata": {},
   "outputs": [],
   "source": [
    "# import shapefile with state geometries\n",
    "states = geopandas.read_file\\(r\"C:\\data\\gdal\\NE\\110m_cultural\\ne_110m_admin_1_states_provinces.shp\")"
   ]
  },
  {
   "cell_type": "code",
   "execution_count": null,
   "metadata": {},
   "outputs": [],
   "source": [
    "# display attribute table\n",
    "states"
   ]
  },
  {
   "cell_type": "code",
   "execution_count": null,
   "metadata": {},
   "outputs": [],
   "source": [
    "# magic command for using matplotlib, next plot state geometries\n",
    "%matplotlib inline\n",
    "states.plot(figsize=(10,10))"
   ]
  },
  {
   "cell_type": "code",
   "execution_count": null,
   "metadata": {},
   "outputs": [],
   "source": [
    "# reference and display attribute table of shapefile with wildire data\n",
    "fires = geopandas.read_file(r\"C:\\data\\mtbs_fod_pts_data\\mtbs_fod_pts_20170501.shp\") \n",
    "fires"
   ]
  },
  {
   "cell_type": "code",
   "execution_count": null,
   "metadata": {},
   "outputs": [],
   "source": [
    "# plot all fires as point data on a map\n",
    "fires.plot(markersize=1, figsize=(17,17))"
   ]
  },
  {
   "cell_type": "code",
   "execution_count": null,
   "metadata": {},
   "outputs": [],
   "source": [
    "# print coordinate reference system of firedata\n",
    "fires.crs"
   ]
  },
  {
   "cell_type": "code",
   "execution_count": null,
   "metadata": {},
   "outputs": [],
   "source": [
    "# print coordinate reference system of state geometry shapefile\n",
    "states.crs"
   ]
  },
  {
   "cell_type": "code",
   "execution_count": null,
   "metadata": {},
   "outputs": [],
   "source": [
    "# reproject fires shapefile so it´s equal to the state geometry shapefile\n",
    "fires = fires.to_crs({'init': 'epsg:4326'})"
   ]
  },
  {
   "cell_type": "code",
   "execution_count": null,
   "metadata": {},
   "outputs": [],
   "source": [
    "# perform spatial join\n",
    "state_fires = geopandas.sjoin(fires, states[['name', 'geometry']].copy(), op='within')\n",
    "state_fires"
   ]
  },
  {
   "cell_type": "code",
   "execution_count": null,
   "metadata": {},
   "outputs": [],
   "source": [
    "# create pandas dataframe object with states and fire count\n",
    "counts_per_state = state_fires.groupby('name').size()    \n",
    "# list highest values first \n",
    "counts_per_state.sort_values(axis=0, ascending=False)"
   ]
  },
  {
   "cell_type": "code",
   "execution_count": null,
   "metadata": {},
   "outputs": [],
   "source": [
    "# add values to the original shapefile data as a new field\n",
    "states = states.merge(counts_per_state.reset_index(name='number_of_fires'))        \n",
    "# list first five rows of shapefile\n",
    "states.head()"
   ]
  },
  {
   "cell_type": "code",
   "execution_count": null,
   "metadata": {},
   "outputs": [],
   "source": [
    "# create map with wildfire date per state\n",
    "ax = states.plot(column='number_of_fires', figsize=(15, 6), cmap='OrRd', legend=True)"
   ]
  },
  {
   "cell_type": "code",
   "execution_count": null,
   "metadata": {},
   "outputs": [],
   "source": [
    "# same map with different colour scheme\n",
    "ax = states.plot(column='number_of_fires', figsize=(15, 6), cmap='Accent', legend=True)"
   ]
  },
  {
   "cell_type": "code",
   "execution_count": null,
   "metadata": {},
   "outputs": [],
   "source": [
    "# same map, but without x and y axes and added title\n",
    "import matplotlib.pyplot as plt\n",
    "f, ax = plt.subplots(1, figsize=(18,6))\n",
    "ax = states.plot(column='number_of_fires', cmap='Accent', legend=True, ax=ax)\n",
    "lims = plt.axis('equal')\n",
    "f.suptitle('US Wildfire count per state in 1984-2015')     \n",
    "ax.set_axis_off()\n",
    "plt.show()"
   ]
  }
 ],
 "metadata": {
  "kernelspec": {
   "display_name": "Python 3",
   "language": "python",
   "name": "python3"
  },
  "language_info": {
   "codemirror_mode": {
    "name": "ipython",
    "version": 3
   },
   "file_extension": ".py",
   "mimetype": "text/x-python",
   "name": "python",
   "nbconvert_exporter": "python",
   "pygments_lexer": "ipython3",
   "version": "3.6.3"
  }
 },
 "nbformat": 4,
 "nbformat_minor": 2
}
